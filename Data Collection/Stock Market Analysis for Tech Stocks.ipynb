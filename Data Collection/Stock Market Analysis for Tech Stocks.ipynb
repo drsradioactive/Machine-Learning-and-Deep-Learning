{
 "cells": [
  {
   "cell_type": "markdown",
   "id": "8f753b26",
   "metadata": {},
   "source": [
    "https://sajalsharma.com/portfolio/\n",
    "https://medium.com/nerd-for-tech/stock-market-analysis-yahoo-finance-data-782371d07ea5"
   ]
  },
  {
   "cell_type": "code",
   "execution_count": 3,
   "id": "0f4c0e5d",
   "metadata": {},
   "outputs": [
    {
     "name": "stdout",
     "output_type": "stream",
     "text": [
      "Collecting pandas-datareader\n",
      "  Downloading pandas_datareader-0.10.0-py3-none-any.whl (109 kB)\n",
      "Requirement already satisfied: lxml in c:\\users\\dharmender\\anaconda3\\lib\\site-packages (from pandas-datareader) (4.5.0)\n",
      "Requirement already satisfied: requests>=2.19.0 in c:\\users\\dharmender\\anaconda3\\lib\\site-packages (from pandas-datareader) (2.22.0)\n",
      "Requirement already satisfied: pandas>=0.23 in c:\\users\\dharmender\\anaconda3\\lib\\site-packages (from pandas-datareader) (1.0.1)\n",
      "Requirement already satisfied: chardet<3.1.0,>=3.0.2 in c:\\users\\dharmender\\anaconda3\\lib\\site-packages (from requests>=2.19.0->pandas-datareader) (3.0.4)\n",
      "Requirement already satisfied: urllib3!=1.25.0,!=1.25.1,<1.26,>=1.21.1 in c:\\users\\dharmender\\anaconda3\\lib\\site-packages (from requests>=2.19.0->pandas-datareader) (1.25.8)\n",
      "Requirement already satisfied: certifi>=2017.4.17 in c:\\users\\dharmender\\anaconda3\\lib\\site-packages (from requests>=2.19.0->pandas-datareader) (2019.11.28)\n",
      "Requirement already satisfied: idna<2.9,>=2.5 in c:\\users\\dharmender\\anaconda3\\lib\\site-packages (from requests>=2.19.0->pandas-datareader) (2.8)\n",
      "Requirement already satisfied: python-dateutil>=2.6.1 in c:\\users\\dharmender\\appdata\\roaming\\python\\python37\\site-packages (from pandas>=0.23->pandas-datareader) (2.8.1)\n",
      "Requirement already satisfied: pytz>=2017.2 in c:\\users\\dharmender\\anaconda3\\lib\\site-packages (from pandas>=0.23->pandas-datareader) (2019.3)\n",
      "Requirement already satisfied: numpy>=1.13.3 in c:\\users\\dharmender\\anaconda3\\lib\\site-packages (from pandas>=0.23->pandas-datareader) (1.18.1)\n",
      "Requirement already satisfied: six>=1.5 in c:\\users\\dharmender\\appdata\\roaming\\python\\python37\\site-packages (from python-dateutil>=2.6.1->pandas>=0.23->pandas-datareader) (1.16.0)\n",
      "Installing collected packages: pandas-datareader\n",
      "Successfully installed pandas-datareader-0.10.0\n"
     ]
    }
   ],
   "source": [
    "!pip install pandas-datareader"
   ]
  },
  {
   "cell_type": "code",
   "execution_count": 15,
   "id": "73f1cbb1",
   "metadata": {},
   "outputs": [],
   "source": [
    "from pandas_datareader import data\n",
    "from pandas_datareader import DataReader\n",
    "from datetime import date"
   ]
  },
  {
   "cell_type": "code",
   "execution_count": 5,
   "id": "a6123153",
   "metadata": {},
   "outputs": [],
   "source": [
    "#Python Data Analysis imports\n",
    "import pandas as pd\n",
    "from pandas import Series,DataFrame\n",
    "import numpy as np\n",
    "\n",
    "#Visualisation imports\n",
    "import matplotlib.pyplot as plt\n",
    "import seaborn as sns\n",
    "sns.set_style('whitegrid')\n",
    "%matplotlib inline\n",
    "\n",
    "#To grab stock data\n",
    "from datetime import datetime\n",
    "\n"
   ]
  },
  {
   "cell_type": "code",
   "execution_count": 6,
   "id": "84b0f657",
   "metadata": {},
   "outputs": [],
   "source": [
    "#We're going to analyse stock info for Apple, Google, Microsoft, and Amazon\n",
    "tech_list = ['AAPL','GOOG','MSFT','AMZN','YHOO']"
   ]
  },
  {
   "cell_type": "code",
   "execution_count": 7,
   "id": "e3f1bc23",
   "metadata": {},
   "outputs": [],
   "source": [
    "#Setting the end date to today\n",
    "end = datetime.now()"
   ]
  },
  {
   "cell_type": "code",
   "execution_count": 8,
   "id": "928a3a06",
   "metadata": {},
   "outputs": [],
   "source": [
    "#Start date set to 1 year back\n",
    "start = datetime(end.year-1,end.month,end.day) "
   ]
  },
  {
   "cell_type": "code",
   "execution_count": 18,
   "id": "9f81e345",
   "metadata": {},
   "outputs": [],
   "source": [
    "#Using Yahoo Finance to grab the stock data\n",
    "for stock in tech_list:\n",
    "    globals()[stock] = data.DataReader(stock,'yahoo',start,end) #The globals method sets the stock name to a global variable"
   ]
  },
  {
   "cell_type": "code",
   "execution_count": 19,
   "id": "dd5eec95",
   "metadata": {},
   "outputs": [
    {
     "data": {
      "text/html": [
       "<div>\n",
       "<style scoped>\n",
       "    .dataframe tbody tr th:only-of-type {\n",
       "        vertical-align: middle;\n",
       "    }\n",
       "\n",
       "    .dataframe tbody tr th {\n",
       "        vertical-align: top;\n",
       "    }\n",
       "\n",
       "    .dataframe thead th {\n",
       "        text-align: right;\n",
       "    }\n",
       "</style>\n",
       "<table border=\"1\" class=\"dataframe\">\n",
       "  <thead>\n",
       "    <tr style=\"text-align: right;\">\n",
       "      <th></th>\n",
       "      <th>High</th>\n",
       "      <th>Low</th>\n",
       "      <th>Open</th>\n",
       "      <th>Close</th>\n",
       "      <th>Volume</th>\n",
       "      <th>Adj Close</th>\n",
       "    </tr>\n",
       "    <tr>\n",
       "      <th>Date</th>\n",
       "      <th></th>\n",
       "      <th></th>\n",
       "      <th></th>\n",
       "      <th></th>\n",
       "      <th></th>\n",
       "      <th></th>\n",
       "    </tr>\n",
       "  </thead>\n",
       "  <tbody>\n",
       "    <tr>\n",
       "      <th>2020-07-29</th>\n",
       "      <td>95.230003</td>\n",
       "      <td>93.712502</td>\n",
       "      <td>93.750000</td>\n",
       "      <td>95.040001</td>\n",
       "      <td>90329200.0</td>\n",
       "      <td>94.403893</td>\n",
       "    </tr>\n",
       "    <tr>\n",
       "      <th>2020-07-30</th>\n",
       "      <td>96.297501</td>\n",
       "      <td>93.767502</td>\n",
       "      <td>94.187500</td>\n",
       "      <td>96.190002</td>\n",
       "      <td>158130000.0</td>\n",
       "      <td>95.546204</td>\n",
       "    </tr>\n",
       "    <tr>\n",
       "      <th>2020-07-31</th>\n",
       "      <td>106.415001</td>\n",
       "      <td>100.824997</td>\n",
       "      <td>102.885002</td>\n",
       "      <td>106.260002</td>\n",
       "      <td>374336800.0</td>\n",
       "      <td>105.548805</td>\n",
       "    </tr>\n",
       "    <tr>\n",
       "      <th>2020-08-03</th>\n",
       "      <td>111.637497</td>\n",
       "      <td>107.892502</td>\n",
       "      <td>108.199997</td>\n",
       "      <td>108.937500</td>\n",
       "      <td>308151200.0</td>\n",
       "      <td>108.208389</td>\n",
       "    </tr>\n",
       "    <tr>\n",
       "      <th>2020-08-04</th>\n",
       "      <td>110.790001</td>\n",
       "      <td>108.387497</td>\n",
       "      <td>109.132500</td>\n",
       "      <td>109.665001</td>\n",
       "      <td>173071600.0</td>\n",
       "      <td>108.931015</td>\n",
       "    </tr>\n",
       "  </tbody>\n",
       "</table>\n",
       "</div>"
      ],
      "text/plain": [
       "                  High         Low        Open       Close       Volume  \\\n",
       "Date                                                                      \n",
       "2020-07-29   95.230003   93.712502   93.750000   95.040001   90329200.0   \n",
       "2020-07-30   96.297501   93.767502   94.187500   96.190002  158130000.0   \n",
       "2020-07-31  106.415001  100.824997  102.885002  106.260002  374336800.0   \n",
       "2020-08-03  111.637497  107.892502  108.199997  108.937500  308151200.0   \n",
       "2020-08-04  110.790001  108.387497  109.132500  109.665001  173071600.0   \n",
       "\n",
       "             Adj Close  \n",
       "Date                    \n",
       "2020-07-29   94.403893  \n",
       "2020-07-30   95.546204  \n",
       "2020-07-31  105.548805  \n",
       "2020-08-03  108.208389  \n",
       "2020-08-04  108.931015  "
      ]
     },
     "execution_count": 19,
     "metadata": {},
     "output_type": "execute_result"
    }
   ],
   "source": [
    "AAPL.head()"
   ]
  },
  {
   "cell_type": "code",
   "execution_count": 20,
   "id": "65234c4b",
   "metadata": {},
   "outputs": [
    {
     "data": {
      "text/html": [
       "<div>\n",
       "<style scoped>\n",
       "    .dataframe tbody tr th:only-of-type {\n",
       "        vertical-align: middle;\n",
       "    }\n",
       "\n",
       "    .dataframe tbody tr th {\n",
       "        vertical-align: top;\n",
       "    }\n",
       "\n",
       "    .dataframe thead th {\n",
       "        text-align: right;\n",
       "    }\n",
       "</style>\n",
       "<table border=\"1\" class=\"dataframe\">\n",
       "  <thead>\n",
       "    <tr style=\"text-align: right;\">\n",
       "      <th></th>\n",
       "      <th>High</th>\n",
       "      <th>Low</th>\n",
       "      <th>Open</th>\n",
       "      <th>Close</th>\n",
       "      <th>Volume</th>\n",
       "      <th>Adj Close</th>\n",
       "    </tr>\n",
       "  </thead>\n",
       "  <tbody>\n",
       "    <tr>\n",
       "      <th>count</th>\n",
       "      <td>254.000000</td>\n",
       "      <td>254.000000</td>\n",
       "      <td>254.000000</td>\n",
       "      <td>254.000000</td>\n",
       "      <td>2.540000e+02</td>\n",
       "      <td>254.000000</td>\n",
       "    </tr>\n",
       "    <tr>\n",
       "      <th>mean</th>\n",
       "      <td>127.148386</td>\n",
       "      <td>124.060729</td>\n",
       "      <td>125.670591</td>\n",
       "      <td>125.656299</td>\n",
       "      <td>1.170669e+08</td>\n",
       "      <td>125.342028</td>\n",
       "    </tr>\n",
       "    <tr>\n",
       "      <th>std</th>\n",
       "      <td>9.911047</td>\n",
       "      <td>10.110753</td>\n",
       "      <td>10.051033</td>\n",
       "      <td>10.029276</td>\n",
       "      <td>5.316648e+07</td>\n",
       "      <td>10.166592</td>\n",
       "    </tr>\n",
       "    <tr>\n",
       "      <th>min</th>\n",
       "      <td>95.230003</td>\n",
       "      <td>93.712502</td>\n",
       "      <td>93.750000</td>\n",
       "      <td>95.040001</td>\n",
       "      <td>3.748125e+07</td>\n",
       "      <td>94.403893</td>\n",
       "    </tr>\n",
       "    <tr>\n",
       "      <th>25%</th>\n",
       "      <td>119.965000</td>\n",
       "      <td>116.539997</td>\n",
       "      <td>118.660000</td>\n",
       "      <td>118.652500</td>\n",
       "      <td>8.166592e+07</td>\n",
       "      <td>118.274569</td>\n",
       "    </tr>\n",
       "    <tr>\n",
       "      <th>50%</th>\n",
       "      <td>126.959999</td>\n",
       "      <td>124.090000</td>\n",
       "      <td>125.419998</td>\n",
       "      <td>125.500000</td>\n",
       "      <td>1.026437e+08</td>\n",
       "      <td>125.318535</td>\n",
       "    </tr>\n",
       "    <tr>\n",
       "      <th>75%</th>\n",
       "      <td>134.077503</td>\n",
       "      <td>131.035004</td>\n",
       "      <td>132.437500</td>\n",
       "      <td>132.237503</td>\n",
       "      <td>1.406704e+08</td>\n",
       "      <td>132.152042</td>\n",
       "    </tr>\n",
       "    <tr>\n",
       "      <th>max</th>\n",
       "      <td>150.000000</td>\n",
       "      <td>147.699997</td>\n",
       "      <td>149.240005</td>\n",
       "      <td>149.149994</td>\n",
       "      <td>3.743368e+08</td>\n",
       "      <td>149.149994</td>\n",
       "    </tr>\n",
       "  </tbody>\n",
       "</table>\n",
       "</div>"
      ],
      "text/plain": [
       "             High         Low        Open       Close        Volume  \\\n",
       "count  254.000000  254.000000  254.000000  254.000000  2.540000e+02   \n",
       "mean   127.148386  124.060729  125.670591  125.656299  1.170669e+08   \n",
       "std      9.911047   10.110753   10.051033   10.029276  5.316648e+07   \n",
       "min     95.230003   93.712502   93.750000   95.040001  3.748125e+07   \n",
       "25%    119.965000  116.539997  118.660000  118.652500  8.166592e+07   \n",
       "50%    126.959999  124.090000  125.419998  125.500000  1.026437e+08   \n",
       "75%    134.077503  131.035004  132.437500  132.237503  1.406704e+08   \n",
       "max    150.000000  147.699997  149.240005  149.149994  3.743368e+08   \n",
       "\n",
       "        Adj Close  \n",
       "count  254.000000  \n",
       "mean   125.342028  \n",
       "std     10.166592  \n",
       "min     94.403893  \n",
       "25%    118.274569  \n",
       "50%    125.318535  \n",
       "75%    132.152042  \n",
       "max    149.149994  "
      ]
     },
     "execution_count": 20,
     "metadata": {},
     "output_type": "execute_result"
    }
   ],
   "source": [
    "#Basic stats for Apple's Stock\n",
    "AAPL.describe()"
   ]
  },
  {
   "cell_type": "code",
   "execution_count": 21,
   "id": "d848ba73",
   "metadata": {},
   "outputs": [
    {
     "name": "stdout",
     "output_type": "stream",
     "text": [
      "<class 'pandas.core.frame.DataFrame'>\n",
      "DatetimeIndex: 254 entries, 2020-07-29 to 2021-07-30\n",
      "Data columns (total 6 columns):\n",
      " #   Column     Non-Null Count  Dtype  \n",
      "---  ------     --------------  -----  \n",
      " 0   High       254 non-null    float64\n",
      " 1   Low        254 non-null    float64\n",
      " 2   Open       254 non-null    float64\n",
      " 3   Close      254 non-null    float64\n",
      " 4   Volume     254 non-null    float64\n",
      " 5   Adj Close  254 non-null    float64\n",
      "dtypes: float64(6)\n",
      "memory usage: 13.9 KB\n"
     ]
    }
   ],
   "source": [
    "AAPL.info()"
   ]
  },
  {
   "cell_type": "code",
   "execution_count": 22,
   "id": "c88dce8b",
   "metadata": {},
   "outputs": [
    {
     "data": {
      "text/plain": [
       "<matplotlib.axes._subplots.AxesSubplot at 0x238b95dd948>"
      ]
     },
     "execution_count": 22,
     "metadata": {},
     "output_type": "execute_result"
    },
    {
     "data": {
      "image/png": "[encoded data removed]",
      "text/plain": [
       "<Figure size 864x360 with 1 Axes>"
      ]
     },
     "metadata": {
      "needs_background": "light"
     },
     "output_type": "display_data"
    }
   ],
   "source": [
    "#Plotting the stock's adjusted closing price using pandas\n",
    "AAPL['Adj Close'].plot(legend=True,figsize=(12,5))"
   ]
  },
  {
   "cell_type": "code",
   "execution_count": 23,
   "id": "66b0c9b8",
   "metadata": {},
   "outputs": [
    {
     "data": {
      "text/plain": [
       "<matplotlib.axes._subplots.AxesSubplot at 0x238b95f3448>"
      ]
     },
     "execution_count": 23,
     "metadata": {},
     "output_type": "execute_result"
    },
    {
     "data": {
      "image/png": "[encoded data removed]",
      "text/plain": [
       "<Figure size 864x360 with 1 Axes>"
      ]
     },
     "metadata": {
      "needs_background": "light"
     },
     "output_type": "display_data"
    }
   ],
   "source": [
    "#Plotting the total volume being traded over time\n",
    "AAPL['Volume'].plot(legend=True,figsize=(12,5))"
   ]
  },
  {
   "cell_type": "code",
   "execution_count": 17,
   "id": "efb16984",
   "metadata": {},
   "outputs": [],
   "source": [
    "import pandas as pd\n",
    "from pandas_datareader import data\n",
    "from datetime import datetime\n",
    "import numpy as np\n",
    "import matplotlib.pyplot as plt\n",
    "import seaborn as sns\n",
    "\n",
    "sns.set_style('whitegrid')\n",
    "%matplotlib inline\n",
    "\n",
    "\n",
    "tech_list = ['AAPL','GOOG','MSFT','AMZN']\n",
    "\n",
    "end = datetime.now()\n",
    "start = datetime(end.year -1, end.month, end.day)\n",
    "stocks = {}\n",
    "\n",
    "for stock in tech_list:\n",
    "    #storing each dataframe in as a key value pair or else it will\n",
    "    #overwrite the stock variable even if you define it as global var\n",
    "    stocks[stock] = data.DataReader(stock,'yahoo',start,end)"
   ]
  },
  {
   "cell_type": "code",
   "execution_count": null,
   "id": "77caeb20",
   "metadata": {},
   "outputs": [],
   "source": []
  }
 ],
 "metadata": {
  "kernelspec": {
   "display_name": "Python 3",
   "language": "python",
   "name": "python3"
  },
  "language_info": {
   "codemirror_mode": {
    "name": "ipython",
    "version": 3
   },
   "file_extension": ".py",
   "mimetype": "text/x-python",
   "name": "python",
   "nbconvert_exporter": "python",
   "pygments_lexer": "ipython3",
   "version": "3.7.6"
  }
 },
 "nbformat": 4,
 "nbformat_minor": 5
}
